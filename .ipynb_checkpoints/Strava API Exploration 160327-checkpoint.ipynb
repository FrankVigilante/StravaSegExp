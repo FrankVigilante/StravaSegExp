{
 "cells": [
  {
   "cell_type": "code",
   "execution_count": 1,
   "metadata": {
    "collapsed": false
   },
   "outputs": [],
   "source": [
    "#Goal - Select all segments in a given lat/long bounds using the Strava API\n",
    "#Problem - API only reuturns top 10 segments in bound\n",
    "import stravalib\n",
    "import pandas as pd\n",
    "import numpy as np\n",
    "#import matplotlib.pyplot as plt\n",
    "#import seaborn as sns\n",
    "#import folium\n",
    "import os\n",
    "%matplotlib inline"
   ]
  },
  {
   "cell_type": "code",
   "execution_count": 2,
   "metadata": {
    "collapsed": false
   },
   "outputs": [
    {
     "name": "stdout",
     "output_type": "stream",
     "text": [
      "athlete name Ryan, athlete id 1705436.\n"
     ]
    }
   ],
   "source": [
    "client = stravalib.client.Client(access_token=os.environ['STRAVA_APICODE'])\n",
    "athlete = client.get_athlete()\n",
    "print 'athlete name %s, athlete id %s.' %(athlete.firstname, athlete.id)"
   ]
  },
  {
   "cell_type": "code",
   "execution_count": 3,
   "metadata": {
    "collapsed": true
   },
   "outputs": [],
   "source": [
    "segment_explorer = client.explore_segments([40.681, -89.636, 40.775, -89.504],\n",
    "                                          activity_type='riding')"
   ]
  },
  {
   "cell_type": "code",
   "execution_count": 4,
   "metadata": {
    "collapsed": false
   },
   "outputs": [
    {
     "name": "stdout",
     "output_type": "stream",
     "text": [
      "seg id 4784318, seg name WTF Bridge, seg dist 486.20 m\n",
      "seg id 5775106, seg name Down and Up, seg dist 495.70 m\n",
      "seg id 1593922, seg name Oakwood Road Hill, seg dist 289.80 m\n",
      "seg id 1682962, seg name Grandview Drive Bike Climb, seg dist 1052.30 m\n",
      "seg id 7768686, seg name Bridge to Glen Sprint, seg dist 1632.40 m\n",
      "seg id 5159402, seg name Main St., seg dist 560.50 m\n",
      "seg id 3429437, seg name 24 from 116/150, seg dist 1911.00 m\n",
      "seg id 2576246, seg name Highview, seg dist 914.80 m\n",
      "seg id 1720658, seg name Spring Creek Road Climb, seg dist 1086.10 m\n",
      "seg id 4906820, seg name Coming into ICC, seg dist 1027.50 m\n"
     ]
    }
   ],
   "source": [
    "from polyline.codec import PolylineCodec\n",
    "dflist = []\n",
    "\n",
    "for seg in segment_explorer:\n",
    "    print 'seg id %s, seg name %s, seg dist %s' % \\\n",
    "           (seg.id, seg.name, seg.distance)\n",
    "\n",
    "    seg_id = seg.id\n",
    "    seg_detail = client.get_segment(seg_id)\n",
    "    newrow = {'seg_id' : int(seg_id),\n",
    "              'name' : str(seg.name),\n",
    "              'act_type' : seg_detail.activity_type,\n",
    "              'elev_low' : float(seg_detail.elevation_low),\n",
    "              'elev_high' : float(seg_detail.elevation_high),\n",
    "              'start_lat' : float(seg_detail.start_latitude),\n",
    "              'start_long' : float(seg_detail.start_longitude),\n",
    "              'end_lat' : float(seg_detail.end_latitude),\n",
    "              'end_long' : float(seg_detail.end_longitude),\n",
    "              'date_created' : seg_detail.created_at,\n",
    "              'effort_cnt' : int(seg_detail.effort_count),\n",
    "              'ath_cnt' : int(seg_detail.athlete_count),\n",
    "              'cat' : int(seg.climb_category),\n",
    "              'elev_gain' : float(seg.elev_difference),\n",
    "              'distance' : float(seg.distance),\n",
    "              'seg_points' : str(seg.points),\n",
    "              'seg_linestring' : str(PolylineCodec().decode(seg.points))\n",
    "             }\n",
    "    dflist.append(newrow)"
   ]
  },
  {
   "cell_type": "code",
   "execution_count": 5,
   "metadata": {
    "collapsed": false
   },
   "outputs": [],
   "source": [
    "seg_df = pd.DataFrame(dflist)"
   ]
  },
  {
   "cell_type": "code",
   "execution_count": 6,
   "metadata": {
    "collapsed": false
   },
   "outputs": [
    {
     "data": {
      "text/html": [
       "<div>\n",
       "<table border=\"1\" class=\"dataframe\">\n",
       "  <thead>\n",
       "    <tr style=\"text-align: right;\">\n",
       "      <th></th>\n",
       "      <th>act_type</th>\n",
       "      <th>ath_cnt</th>\n",
       "      <th>cat</th>\n",
       "      <th>date_created</th>\n",
       "      <th>distance</th>\n",
       "      <th>effort_cnt</th>\n",
       "      <th>elev_gain</th>\n",
       "      <th>elev_high</th>\n",
       "      <th>elev_low</th>\n",
       "      <th>end_lat</th>\n",
       "      <th>end_long</th>\n",
       "      <th>name</th>\n",
       "      <th>seg_id</th>\n",
       "      <th>seg_linestring</th>\n",
       "      <th>seg_points</th>\n",
       "      <th>start_lat</th>\n",
       "      <th>start_long</th>\n",
       "    </tr>\n",
       "  </thead>\n",
       "  <tbody>\n",
       "    <tr>\n",
       "      <th>0</th>\n",
       "      <td>Ride</td>\n",
       "      <td>149</td>\n",
       "      <td>0</td>\n",
       "      <td>2013-07-19 02:31:52+00:00</td>\n",
       "      <td>486.2</td>\n",
       "      <td>896</td>\n",
       "      <td>5.2</td>\n",
       "      <td>140.5</td>\n",
       "      <td>135.3</td>\n",
       "      <td>40.686697</td>\n",
       "      <td>-89.592904</td>\n",
       "      <td>WTF Bridge</td>\n",
       "      <td>4784318</td>\n",
       "      <td>[(40.68257, -89.59088), (40.68669, -89.59291)]</td>\n",
       "      <td>ayhwF~eyaPwXtK</td>\n",
       "      <td>40.682575</td>\n",
       "      <td>-89.59088</td>\n",
       "    </tr>\n",
       "  </tbody>\n",
       "</table>\n",
       "</div>"
      ],
      "text/plain": [
       "  act_type  ath_cnt  cat              date_created  distance  effort_cnt  \\\n",
       "0     Ride      149    0 2013-07-19 02:31:52+00:00     486.2         896   \n",
       "\n",
       "   elev_gain  elev_high  elev_low    end_lat   end_long        name   seg_id  \\\n",
       "0        5.2      140.5     135.3  40.686697 -89.592904  WTF Bridge  4784318   \n",
       "\n",
       "                                   seg_linestring      seg_points  start_lat  \\\n",
       "0  [(40.68257, -89.59088), (40.68669, -89.59291)]  ayhwF~eyaPwXtK  40.682575   \n",
       "\n",
       "   start_long  \n",
       "0   -89.59088  "
      ]
     },
     "execution_count": 6,
     "metadata": {},
     "output_type": "execute_result"
    }
   ],
   "source": [
    "seg_df.head(1)"
   ]
  },
  {
   "cell_type": "code",
   "execution_count": 7,
   "metadata": {
    "collapsed": false
   },
   "outputs": [],
   "source": [
    "seg_df.set_index('seg_id', append=True, inplace=True)"
   ]
  },
  {
   "cell_type": "code",
   "execution_count": 8,
   "metadata": {
    "collapsed": false
   },
   "outputs": [
    {
     "data": {
      "text/html": [
       "<div>\n",
       "<table border=\"1\" class=\"dataframe\">\n",
       "  <thead>\n",
       "    <tr style=\"text-align: right;\">\n",
       "      <th></th>\n",
       "      <th></th>\n",
       "      <th>act_type</th>\n",
       "      <th>ath_cnt</th>\n",
       "      <th>cat</th>\n",
       "      <th>date_created</th>\n",
       "      <th>distance</th>\n",
       "      <th>effort_cnt</th>\n",
       "      <th>elev_gain</th>\n",
       "      <th>elev_high</th>\n",
       "      <th>elev_low</th>\n",
       "      <th>end_lat</th>\n",
       "      <th>end_long</th>\n",
       "      <th>name</th>\n",
       "      <th>seg_linestring</th>\n",
       "      <th>seg_points</th>\n",
       "      <th>start_lat</th>\n",
       "      <th>start_long</th>\n",
       "    </tr>\n",
       "    <tr>\n",
       "      <th></th>\n",
       "      <th>seg_id</th>\n",
       "      <th></th>\n",
       "      <th></th>\n",
       "      <th></th>\n",
       "      <th></th>\n",
       "      <th></th>\n",
       "      <th></th>\n",
       "      <th></th>\n",
       "      <th></th>\n",
       "      <th></th>\n",
       "      <th></th>\n",
       "      <th></th>\n",
       "      <th></th>\n",
       "      <th></th>\n",
       "      <th></th>\n",
       "      <th></th>\n",
       "      <th></th>\n",
       "    </tr>\n",
       "  </thead>\n",
       "  <tbody>\n",
       "    <tr>\n",
       "      <th>0</th>\n",
       "      <th>4784318</th>\n",
       "      <td>Ride</td>\n",
       "      <td>149</td>\n",
       "      <td>0</td>\n",
       "      <td>2013-07-19 02:31:52+00:00</td>\n",
       "      <td>486.2</td>\n",
       "      <td>896</td>\n",
       "      <td>5.2</td>\n",
       "      <td>140.5</td>\n",
       "      <td>135.3</td>\n",
       "      <td>40.686697</td>\n",
       "      <td>-89.592904</td>\n",
       "      <td>WTF Bridge</td>\n",
       "      <td>[(40.68257, -89.59088), (40.68669, -89.59291)]</td>\n",
       "      <td>ayhwF~eyaPwXtK</td>\n",
       "      <td>40.682575</td>\n",
       "      <td>-89.59088</td>\n",
       "    </tr>\n",
       "  </tbody>\n",
       "</table>\n",
       "</div>"
      ],
      "text/plain": [
       "          act_type  ath_cnt  cat              date_created  distance  \\\n",
       "  seg_id                                                               \n",
       "0 4784318     Ride      149    0 2013-07-19 02:31:52+00:00     486.2   \n",
       "\n",
       "           effort_cnt  elev_gain  elev_high  elev_low    end_lat   end_long  \\\n",
       "  seg_id                                                                      \n",
       "0 4784318         896        5.2      140.5     135.3  40.686697 -89.592904   \n",
       "\n",
       "                 name                                  seg_linestring  \\\n",
       "  seg_id                                                                \n",
       "0 4784318  WTF Bridge  [(40.68257, -89.59088), (40.68669, -89.59291)]   \n",
       "\n",
       "               seg_points  start_lat  start_long  \n",
       "  seg_id                                          \n",
       "0 4784318  ayhwF~eyaPwXtK  40.682575   -89.59088  "
      ]
     },
     "execution_count": 8,
     "metadata": {},
     "output_type": "execute_result"
    }
   ],
   "source": [
    "seg_df.head(1)"
   ]
  },
  {
   "cell_type": "code",
   "execution_count": 9,
   "metadata": {
    "collapsed": true
   },
   "outputs": [],
   "source": [
    "#Allow display of js in notebook\n",
    "from IPython.display import Javascript"
   ]
  },
  {
   "cell_type": "code",
   "execution_count": 10,
   "metadata": {
    "collapsed": false
   },
   "outputs": [
    {
     "data": {
      "application/javascript": [
       "require.config({\n",
       "  paths: {\n",
       "      'mapboxgl': '//api.tiles.mapbox.com/mapbox-gl-js/v0.16.0/mapbox-gl'\n",
       "  }\n",
       "});"
      ],
      "text/plain": [
       "<IPython.core.display.Javascript object>"
      ]
     },
     "metadata": {},
     "output_type": "display_data"
    }
   ],
   "source": [
    "%%javascript\n",
    "require.config({\n",
    "  paths: {\n",
    "      'mapboxgl': '//api.tiles.mapbox.com/mapbox-gl-js/v0.16.0/mapbox-gl'\n",
    "  }\n",
    "});"
   ]
  },
  {
   "cell_type": "code",
   "execution_count": 11,
   "metadata": {
    "collapsed": false
   },
   "outputs": [
    {
     "data": {
      "application/javascript": [
       "require(['mapboxgl'], function(mapboxgl){\n",
       "    mapboxgl.accessToken = 'pk.eyJ1IjoicnNiYXVtYW5uIiwiYSI6IjdiOWEzZGIyMGNkOGY3NWQ4ZTBhN2Y5ZGU2Mzg2NDY2In0.jycgv7qwF8MMIWt4cT0RaQ';\n",
       "    var map = new mapboxgl.Map({\n",
       "        container: 'map', // container id\n",
       "        style: 'mapbox://styles/mapbox/dark-v8', //stylesheet location\n",
       "        center: [-89.948470, 40.783860], // starting position\n",
       "        zoom: 12 // starting zoom \n",
       "    });\n",
       "    element.append(\"<div id='map'></div>\");\n",
       "});"
      ],
      "text/plain": [
       "<IPython.core.display.Javascript object>"
      ]
     },
     "metadata": {},
     "output_type": "display_data"
    }
   ],
   "source": [
    "%%javascript\n",
    "require(['mapboxgl'], function(mapboxgl){\n",
    "    mapboxgl.accessToken = 'pk.eyJ1IjoicnNiYXVtYW5uIiwiYSI6IjdiOWEzZGIyMGNkOGY3NWQ4ZTBhN2Y5ZGU2Mzg2NDY2In0.jycgv7qwF8MMIWt4cT0RaQ';\n",
    "    var map = new mapboxgl.Map({\n",
    "        container: 'map', // container id\n",
    "        style: 'mapbox://styles/mapbox/dark-v8', //stylesheet location\n",
    "        center: [-89.948470, 40.783860], // starting position\n",
    "        zoom: 12 // starting zoom \n",
    "    });\n",
    "    element.append(\"<div id='map'></div>\");\n",
    "});"
   ]
  },
  {
   "cell_type": "code",
   "execution_count": 16,
   "metadata": {
    "collapsed": false
   },
   "outputs": [
    {
     "name": "stdout",
     "output_type": "stream",
     "text": [
      "GeoJSON file written to location: segdf.geojson\n"
     ]
    }
   ],
   "source": [
    "import berrl as bl\n",
    "apikey = 'pk.eyJ1IjoicnNiYXVtYW5uIiwiYSI6IjdiOWEzZGIyMGNkOGY3NWQ4ZTBhN2Y5ZGU2Mzg2NDY2In0.jycgv7qwF8MMIWt4cT0RaQ'\n",
    "bl.make_line(seg_df[['name', 'seg_linestring']],list=True,filename='segdf.geojson')"
   ]
  },
  {
   "cell_type": "code",
   "execution_count": null,
   "metadata": {
    "collapsed": true
   },
   "outputs": [],
   "source": []
  },
  {
   "cell_type": "code",
   "execution_count": null,
   "metadata": {
    "collapsed": true
   },
   "outputs": [],
   "source": []
  }
 ],
 "metadata": {
  "kernelspec": {
   "display_name": "Python 2",
   "language": "python",
   "name": "python2"
  },
  "language_info": {
   "codemirror_mode": {
    "name": "ipython",
    "version": 2
   },
   "file_extension": ".py",
   "mimetype": "text/x-python",
   "name": "python",
   "nbconvert_exporter": "python",
   "pygments_lexer": "ipython2",
   "version": "2.7.11"
  }
 },
 "nbformat": 4,
 "nbformat_minor": 0
}
