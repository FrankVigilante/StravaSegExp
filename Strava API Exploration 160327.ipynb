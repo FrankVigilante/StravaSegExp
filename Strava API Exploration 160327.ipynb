{
 "cells": [
  {
   "cell_type": "code",
   "execution_count": 1,
   "metadata": {
    "collapsed": false
   },
   "outputs": [
    {
     "name": "stderr",
     "output_type": "stream",
     "text": [
      "c:\\python27\\lib\\site-packages\\matplotlib\\__init__.py:872: UserWarning: axes.color_cycle is deprecated and replaced with axes.prop_cycle; please use the latter.\n",
      "  warnings.warn(self.msg_depr % (key, alt_key))\n"
     ]
    }
   ],
   "source": [
    "#Goal - Select all segments in a given lat/long bounds using the Strava API\n",
    "#Problem - API only reuturns top 10 segments in bound\n",
    "import stravalib\n",
    "import pandas as pd\n",
    "import numpy as np\n",
    "import matplotlib.pyplot as plt\n",
    "import seaborn as sns\n",
    "import folium\n",
    "import stravalib\n",
    "import os\n",
    "%matplotlib inline"
   ]
  },
  {
   "cell_type": "code",
   "execution_count": 2,
   "metadata": {
    "collapsed": false
   },
   "outputs": [
    {
     "name": "stdout",
     "output_type": "stream",
     "text": [
      "athlete name Ryan, athlete id 1705436.\n"
     ]
    }
   ],
   "source": [
    "client = stravalib.client.Client(access_token=os.environ['STRAVA_APICODE'])\n",
    "athlete = client.get_athlete()\n",
    "print 'athlete name %s, athlete id %s.' %(athlete.firstname, athlete.id)"
   ]
  },
  {
   "cell_type": "code",
   "execution_count": 3,
   "metadata": {
    "collapsed": true
   },
   "outputs": [],
   "source": [
    "segment_explorer = client.explore_segments([40.681, -89.636, 40.775, -89.504],\n",
    "                                          activity_type='riding')"
   ]
  },
  {
   "cell_type": "code",
   "execution_count": 47,
   "metadata": {
    "collapsed": false
   },
   "outputs": [
    {
     "name": "stdout",
     "output_type": "stream",
     "text": [
      "seg id 4784318, seg name WTF Bridge, seg dist 486.20 m\n",
      "seg id 5775106, seg name Down and Up, seg dist 495.70 m\n",
      "seg id 1593922, seg name Oakwood Road Hill, seg dist 289.80 m\n",
      "seg id 7768686, seg name Bridge to Glen Sprint, seg dist 1632.40 m\n",
      "seg id 1682962, seg name Grandview Drive Bike Climb, seg dist 1052.30 m\n",
      "seg id 5159402, seg name Main St., seg dist 560.50 m\n",
      "seg id 3429437, seg name 24 from 116/150, seg dist 1911.00 m\n",
      "seg id 2576246, seg name Highview, seg dist 914.80 m\n",
      "seg id 1720658, seg name Spring Creek Road Climb, seg dist 1086.10 m\n",
      "seg id 4906820, seg name Coming into ICC, seg dist 1027.50 m\n"
     ]
    }
   ],
   "source": [
    "from polyline.codec import PolylineCodec\n",
    "dflist = []\n",
    "\n",
    "for seg in segment_explorer:\n",
    "    print 'seg id %s, seg name %s, seg dist %s' % \\\n",
    "           (seg.id, seg.name, seg.distance)\n",
    "    #PolylineCodec().decode(seg.points))\n",
    "\n",
    "    seg_id = seg.id\n",
    "    seg_detail = client.get_segment(seg_id)\n",
    "    newrow = {'seg_id' : seg_id,\n",
    "              'name' : seg.name,\n",
    "              'act_type' : seg_detail.activity_type,\n",
    "              'elev_low' : seg_detail.elevation_low,\n",
    "              'elev_high' : seg_detail.elevation_high,\n",
    "              'start_lat' : seg_detail.start_latitude,\n",
    "              'start_long' : seg_detail.start_longitude,\n",
    "              'end_lat' : seg_detail.end_latitude,\n",
    "              'end_long' : seg_detail.end_longitude,\n",
    "              'date_created' : seg_detail.created_at,\n",
    "              'effort_cnt' : seg_detail.effort_count,\n",
    "              'ath_cnt' : seg_detail.athlete_count,\n",
    "              'cat' : seg.climb_category,\n",
    "              'elev_gain' : seg.elev_difference,\n",
    "              'distance' : seg.distance,\n",
    "              'seg_points' : seg.points\n",
    "             }\n",
    "    dflist.append(newrow)"
   ]
  },
  {
   "cell_type": "code",
   "execution_count": 50,
   "metadata": {
    "collapsed": false
   },
   "outputs": [],
   "source": [
    "seg_df = pd.DataFrame(dflist)"
   ]
  },
  {
   "cell_type": "code",
   "execution_count": 52,
   "metadata": {
    "collapsed": false
   },
   "outputs": [
    {
     "data": {
      "text/html": [
       "<div>\n",
       "<table border=\"1\" class=\"dataframe\">\n",
       "  <thead>\n",
       "    <tr style=\"text-align: right;\">\n",
       "      <th></th>\n",
       "      <th>act_type</th>\n",
       "      <th>ath_cnt</th>\n",
       "      <th>cat</th>\n",
       "      <th>date_created</th>\n",
       "      <th>distance</th>\n",
       "      <th>effort_cnt</th>\n",
       "      <th>elev_gain</th>\n",
       "      <th>elev_high</th>\n",
       "      <th>elev_low</th>\n",
       "      <th>end_lat</th>\n",
       "      <th>end_long</th>\n",
       "      <th>name</th>\n",
       "      <th>seg_id</th>\n",
       "      <th>seg_points</th>\n",
       "      <th>start_lat</th>\n",
       "      <th>start_long</th>\n",
       "    </tr>\n",
       "  </thead>\n",
       "  <tbody>\n",
       "    <tr>\n",
       "      <th>0</th>\n",
       "      <td>Ride</td>\n",
       "      <td>149</td>\n",
       "      <td>0</td>\n",
       "      <td>2013-07-19 02:31:52+00:00</td>\n",
       "      <td>486.20 m</td>\n",
       "      <td>895</td>\n",
       "      <td>5.20 m</td>\n",
       "      <td>140.50 m</td>\n",
       "      <td>135.30 m</td>\n",
       "      <td>40.686697</td>\n",
       "      <td>-89.592904</td>\n",
       "      <td>WTF Bridge</td>\n",
       "      <td>4784318</td>\n",
       "      <td>ayhwF~eyaPwXtK</td>\n",
       "      <td>40.682575</td>\n",
       "      <td>-89.59088</td>\n",
       "    </tr>\n",
       "  </tbody>\n",
       "</table>\n",
       "</div>"
      ],
      "text/plain": [
       "  act_type  ath_cnt  cat              date_created  distance  effort_cnt  \\\n",
       "0     Ride      149    0 2013-07-19 02:31:52+00:00  486.20 m         895   \n",
       "\n",
       "  elev_gain elev_high  elev_low    end_lat   end_long        name   seg_id  \\\n",
       "0    5.20 m  140.50 m  135.30 m  40.686697 -89.592904  WTF Bridge  4784318   \n",
       "\n",
       "       seg_points  start_lat  start_long  \n",
       "0  ayhwF~eyaPwXtK  40.682575   -89.59088  "
      ]
     },
     "execution_count": 52,
     "metadata": {},
     "output_type": "execute_result"
    }
   ],
   "source": [
    "seg_df.head(1)"
   ]
  },
  {
   "cell_type": "code",
   "execution_count": 62,
   "metadata": {
    "collapsed": false
   },
   "outputs": [],
   "source": [
    "seg_df.set_index('seg_id', append=True, inplace=True)"
   ]
  },
  {
   "cell_type": "code",
   "execution_count": 63,
   "metadata": {
    "collapsed": false
   },
   "outputs": [
    {
     "data": {
      "text/html": [
       "<div>\n",
       "<table border=\"1\" class=\"dataframe\">\n",
       "  <thead>\n",
       "    <tr style=\"text-align: right;\">\n",
       "      <th></th>\n",
       "      <th></th>\n",
       "      <th>act_type</th>\n",
       "      <th>ath_cnt</th>\n",
       "      <th>cat</th>\n",
       "      <th>date_created</th>\n",
       "      <th>distance</th>\n",
       "      <th>effort_cnt</th>\n",
       "      <th>elev_gain</th>\n",
       "      <th>elev_high</th>\n",
       "      <th>elev_low</th>\n",
       "      <th>end_lat</th>\n",
       "      <th>end_long</th>\n",
       "      <th>name</th>\n",
       "      <th>seg_points</th>\n",
       "      <th>start_lat</th>\n",
       "      <th>start_long</th>\n",
       "    </tr>\n",
       "    <tr>\n",
       "      <th></th>\n",
       "      <th>seg_id</th>\n",
       "      <th></th>\n",
       "      <th></th>\n",
       "      <th></th>\n",
       "      <th></th>\n",
       "      <th></th>\n",
       "      <th></th>\n",
       "      <th></th>\n",
       "      <th></th>\n",
       "      <th></th>\n",
       "      <th></th>\n",
       "      <th></th>\n",
       "      <th></th>\n",
       "      <th></th>\n",
       "      <th></th>\n",
       "      <th></th>\n",
       "    </tr>\n",
       "  </thead>\n",
       "  <tbody>\n",
       "    <tr>\n",
       "      <th>0</th>\n",
       "      <th>4784318</th>\n",
       "      <td>Ride</td>\n",
       "      <td>149</td>\n",
       "      <td>0</td>\n",
       "      <td>2013-07-19 02:31:52+00:00</td>\n",
       "      <td>486.20 m</td>\n",
       "      <td>895</td>\n",
       "      <td>5.20 m</td>\n",
       "      <td>140.50 m</td>\n",
       "      <td>135.30 m</td>\n",
       "      <td>40.686697</td>\n",
       "      <td>-89.592904</td>\n",
       "      <td>WTF Bridge</td>\n",
       "      <td>ayhwF~eyaPwXtK</td>\n",
       "      <td>40.682575</td>\n",
       "      <td>-89.59088</td>\n",
       "    </tr>\n",
       "  </tbody>\n",
       "</table>\n",
       "</div>"
      ],
      "text/plain": [
       "          act_type  ath_cnt  cat              date_created  distance  \\\n",
       "  seg_id                                                               \n",
       "0 4784318     Ride      149    0 2013-07-19 02:31:52+00:00  486.20 m   \n",
       "\n",
       "           effort_cnt elev_gain elev_high  elev_low    end_lat   end_long  \\\n",
       "  seg_id                                                                    \n",
       "0 4784318         895    5.20 m  140.50 m  135.30 m  40.686697 -89.592904   \n",
       "\n",
       "                 name      seg_points  start_lat  start_long  \n",
       "  seg_id                                                      \n",
       "0 4784318  WTF Bridge  ayhwF~eyaPwXtK  40.682575   -89.59088  "
      ]
     },
     "execution_count": 63,
     "metadata": {},
     "output_type": "execute_result"
    }
   ],
   "source": [
    "seg_df.head(1)"
   ]
  },
  {
   "cell_type": "code",
   "execution_count": null,
   "metadata": {
    "collapsed": true
   },
   "outputs": [],
   "source": []
  }
 ],
 "metadata": {
  "kernelspec": {
   "display_name": "Python 2",
   "language": "python",
   "name": "python2"
  },
  "language_info": {
   "codemirror_mode": {
    "name": "ipython",
    "version": 2
   },
   "file_extension": ".py",
   "mimetype": "text/x-python",
   "name": "python",
   "nbconvert_exporter": "python",
   "pygments_lexer": "ipython2",
   "version": "2.7.11"
  }
 },
 "nbformat": 4,
 "nbformat_minor": 0
}
